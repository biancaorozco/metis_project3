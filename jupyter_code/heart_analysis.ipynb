{
 "cells": [
  {
   "cell_type": "code",
   "execution_count": 103,
   "metadata": {},
   "outputs": [],
   "source": [
    "############### Libraries ###############\n",
    "import os\n",
    "import pandas as pd\n",
    "import numpy as np\n",
    "import matplotlib.pyplot as plt\n",
    "%matplotlib inline\n",
    "import seaborn as sns\n",
    "import sklearn\n",
    "import pprint\n",
    "\n",
    "from sklearn.ensemble import RandomForestClassifier, RandomForestRegressor\n",
    "from sklearn.linear_model import LogisticRegression\n",
    "from sklearn.model_selection import train_test_split, KFold, cross_val_score, RandomizedSearchCV\n",
    "from sklearn.metrics import f1_score, confusion_matrix, roc_auc_score, roc_curve\n",
    "from sklearn.neighbors import NearestNeighbors, KNeighborsClassifier\n",
    "from sklearn.svm import SVC, LinearSVC\n",
    "from sklearn.tree import DecisionTreeClassifier"
   ]
  },
  {
   "cell_type": "code",
   "execution_count": 2,
   "metadata": {
    "collapsed": true
   },
   "outputs": [
    {
     "data": {
      "text/html": [
       "<div>\n",
       "<style scoped>\n",
       "    .dataframe tbody tr th:only-of-type {\n",
       "        vertical-align: middle;\n",
       "    }\n",
       "\n",
       "    .dataframe tbody tr th {\n",
       "        vertical-align: top;\n",
       "    }\n",
       "\n",
       "    .dataframe thead th {\n",
       "        text-align: right;\n",
       "    }\n",
       "</style>\n",
       "<table border=\"1\" class=\"dataframe\">\n",
       "  <thead>\n",
       "    <tr style=\"text-align: right;\">\n",
       "      <th></th>\n",
       "      <th>age</th>\n",
       "      <th>gender</th>\n",
       "      <th>cpain</th>\n",
       "      <th>restbp</th>\n",
       "      <th>chol</th>\n",
       "      <th>bsugar</th>\n",
       "      <th>restecg</th>\n",
       "      <th>maxhr</th>\n",
       "      <th>exercisecp</th>\n",
       "      <th>oldpeak</th>\n",
       "      <th>slope</th>\n",
       "      <th>ca</th>\n",
       "      <th>thal</th>\n",
       "      <th>target</th>\n",
       "    </tr>\n",
       "  </thead>\n",
       "  <tbody>\n",
       "    <tr>\n",
       "      <th>0</th>\n",
       "      <td>63</td>\n",
       "      <td>1</td>\n",
       "      <td>1</td>\n",
       "      <td>145</td>\n",
       "      <td>233</td>\n",
       "      <td>1</td>\n",
       "      <td>2</td>\n",
       "      <td>150</td>\n",
       "      <td>0</td>\n",
       "      <td>2.3</td>\n",
       "      <td>3</td>\n",
       "      <td>0</td>\n",
       "      <td>6</td>\n",
       "      <td>0</td>\n",
       "    </tr>\n",
       "    <tr>\n",
       "      <th>1</th>\n",
       "      <td>67</td>\n",
       "      <td>1</td>\n",
       "      <td>4</td>\n",
       "      <td>160</td>\n",
       "      <td>286</td>\n",
       "      <td>0</td>\n",
       "      <td>2</td>\n",
       "      <td>108</td>\n",
       "      <td>1</td>\n",
       "      <td>1.5</td>\n",
       "      <td>2</td>\n",
       "      <td>3</td>\n",
       "      <td>3</td>\n",
       "      <td>2</td>\n",
       "    </tr>\n",
       "    <tr>\n",
       "      <th>2</th>\n",
       "      <td>67</td>\n",
       "      <td>1</td>\n",
       "      <td>4</td>\n",
       "      <td>120</td>\n",
       "      <td>229</td>\n",
       "      <td>0</td>\n",
       "      <td>2</td>\n",
       "      <td>129</td>\n",
       "      <td>1</td>\n",
       "      <td>2.6</td>\n",
       "      <td>2</td>\n",
       "      <td>2</td>\n",
       "      <td>7</td>\n",
       "      <td>1</td>\n",
       "    </tr>\n",
       "    <tr>\n",
       "      <th>3</th>\n",
       "      <td>37</td>\n",
       "      <td>1</td>\n",
       "      <td>3</td>\n",
       "      <td>130</td>\n",
       "      <td>250</td>\n",
       "      <td>0</td>\n",
       "      <td>0</td>\n",
       "      <td>187</td>\n",
       "      <td>0</td>\n",
       "      <td>3.5</td>\n",
       "      <td>3</td>\n",
       "      <td>0</td>\n",
       "      <td>3</td>\n",
       "      <td>0</td>\n",
       "    </tr>\n",
       "    <tr>\n",
       "      <th>4</th>\n",
       "      <td>41</td>\n",
       "      <td>0</td>\n",
       "      <td>2</td>\n",
       "      <td>130</td>\n",
       "      <td>204</td>\n",
       "      <td>0</td>\n",
       "      <td>2</td>\n",
       "      <td>172</td>\n",
       "      <td>0</td>\n",
       "      <td>1.4</td>\n",
       "      <td>1</td>\n",
       "      <td>0</td>\n",
       "      <td>3</td>\n",
       "      <td>0</td>\n",
       "    </tr>\n",
       "  </tbody>\n",
       "</table>\n",
       "</div>"
      ],
      "text/plain": [
       "   age  gender  cpain  restbp  chol  bsugar  restecg  maxhr  exercisecp  \\\n",
       "0   63       1      1     145   233       1        2    150           0   \n",
       "1   67       1      4     160   286       0        2    108           1   \n",
       "2   67       1      4     120   229       0        2    129           1   \n",
       "3   37       1      3     130   250       0        0    187           0   \n",
       "4   41       0      2     130   204       0        2    172           0   \n",
       "\n",
       "   oldpeak  slope ca thal  target  \n",
       "0      2.3      3  0    6       0  \n",
       "1      1.5      2  3    3       2  \n",
       "2      2.6      2  2    7       1  \n",
       "3      3.5      3  0    3       0  \n",
       "4      1.4      1  0    3       0  "
      ]
     },
     "execution_count": 2,
     "metadata": {},
     "output_type": "execute_result"
    }
   ],
   "source": [
    "############### Data ###############\n",
    "os.chdir('/Users/biancaorozco/Desktop/Metis/project3/heart_project3/data')\n",
    "df = pd.read_csv('cleveland_data.csv')\n",
    "df.head()"
   ]
  },
  {
   "cell_type": "code",
   "execution_count": 86,
   "metadata": {},
   "outputs": [],
   "source": [
    "############### Funcitons ###############\n",
    "## Model F1 Scores\n",
    "def score_model(model, Xtrain, ytrain):  \n",
    "    kf = KFold(n_splits=5, shuffle=True, random_state=33)\n",
    "    train_scores = cross_val_score(model, Xtrain, ytrain, cv=kf, scoring='f1')\n",
    "    \n",
    "    return np.mean(train_scores) \n",
    "\n",
    "def matrix_model(model, Xtrain, ytrain):\n",
    "    Xtrain, Xval, ytrain, yval = train_test_split(Xtrain, ytrain, test_size=.25, random_state=33)\n",
    "    fit_mod = model.fit(Xtrain, ytrain)\n",
    "    \n",
    "    cmatrix = confusion_matrix(yval, fit_mod.predict(Xval))\n",
    "    \n",
    "    return cmatrix\n",
    "\n",
    "def roc_model(model, Xtrain, ytrain, model_name):\n",
    "    Xtrain, Xval, ytrain, yval = train_test_split(Xtrain, ytrain, test_size=.25, random_state=33)\n",
    "    model.fit(Xtrain, ytrain)\n",
    "\n",
    "    fpr, tpr, thresholds = roc_curve(yval, model.predict_proba(Xval)[:,1])\n",
    "\n",
    "    plt.plot(fpr, tpr,lw=2, label=model_name)\n",
    "    plt.plot([0,1],[0,1],c='red',ls='--')\n",
    "    plt.xlim([-0.05,1.05])\n",
    "    plt.ylim([-0.05,1.05])\n",
    "\n",
    "\n",
    "    plt.xlabel('False positive rate (1-Specificity)')\n",
    "    plt.ylabel('True positive rate (Sensitivity)')\n",
    "    plt.title('ROC Curve for Heart Disease Prediction')\n",
    "    plt.legend();\n",
    "    print(f\"{model_name} AUC score = \", roc_auc_score(yval, model.predict_proba(Xval)[:,1]))\n",
    "    \n",
    "    return \n"
   ]
  },
  {
   "cell_type": "code",
   "execution_count": 4,
   "metadata": {
    "collapsed": true
   },
   "outputs": [
    {
     "name": "stdout",
     "output_type": "stream",
     "text": [
      "<class 'pandas.core.frame.DataFrame'>\n",
      "Int64Index: 297 entries, 0 to 300\n",
      "Data columns (total 14 columns):\n",
      "age           297 non-null int64\n",
      "gender        297 non-null int64\n",
      "cpain         297 non-null int64\n",
      "restbp        297 non-null int64\n",
      "chol          297 non-null int64\n",
      "bsugar        297 non-null int64\n",
      "restecg       297 non-null int64\n",
      "maxhr         297 non-null int64\n",
      "exercisecp    297 non-null int64\n",
      "oldpeak       297 non-null float64\n",
      "slope         297 non-null int64\n",
      "ca            297 non-null int64\n",
      "thal          297 non-null int64\n",
      "target        297 non-null int64\n",
      "dtypes: float64(1), int64(13)\n",
      "memory usage: 34.8 KB\n"
     ]
    }
   ],
   "source": [
    "############### Cleaning Data ###############\n",
    "## Replacing ? and empty values with NaNs\n",
    "nan = np.nan\n",
    "df.replace('?', value=nan, inplace=True)\n",
    "# df.replace('', value=nan, inplace=True)\n",
    "\n",
    "## Dropping rows with NaNs\n",
    "# df.isna().sum()\n",
    "df = df.dropna()\n",
    "# df.isna().sum()\n",
    "\n",
    "## Change string numbers to numeric\n",
    "df['ca'] = pd.to_numeric(df['ca'])\n",
    "df['thal'] = pd.to_numeric(df['thal'])\n",
    "# df['target'] = pd.to_numeric(df['target'])\n",
    "df.info()"
   ]
  },
  {
   "cell_type": "code",
   "execution_count": 5,
   "metadata": {
    "collapsed": true
   },
   "outputs": [
    {
     "data": {
      "text/html": [
       "<div>\n",
       "<style scoped>\n",
       "    .dataframe tbody tr th:only-of-type {\n",
       "        vertical-align: middle;\n",
       "    }\n",
       "\n",
       "    .dataframe tbody tr th {\n",
       "        vertical-align: top;\n",
       "    }\n",
       "\n",
       "    .dataframe thead th {\n",
       "        text-align: right;\n",
       "    }\n",
       "</style>\n",
       "<table border=\"1\" class=\"dataframe\">\n",
       "  <thead>\n",
       "    <tr style=\"text-align: right;\">\n",
       "      <th></th>\n",
       "      <th>age</th>\n",
       "      <th>gender</th>\n",
       "      <th>cpain</th>\n",
       "      <th>restbp</th>\n",
       "      <th>chol</th>\n",
       "      <th>bsugar</th>\n",
       "      <th>restecg</th>\n",
       "      <th>maxhr</th>\n",
       "      <th>exercisecp</th>\n",
       "      <th>oldpeak</th>\n",
       "      <th>slope</th>\n",
       "      <th>ca</th>\n",
       "      <th>thal</th>\n",
       "      <th>target</th>\n",
       "      <th>target1</th>\n",
       "    </tr>\n",
       "  </thead>\n",
       "  <tbody>\n",
       "    <tr>\n",
       "      <th>296</th>\n",
       "      <td>57</td>\n",
       "      <td>0</td>\n",
       "      <td>4</td>\n",
       "      <td>140</td>\n",
       "      <td>241</td>\n",
       "      <td>0</td>\n",
       "      <td>0</td>\n",
       "      <td>123</td>\n",
       "      <td>1</td>\n",
       "      <td>0.2</td>\n",
       "      <td>2</td>\n",
       "      <td>0</td>\n",
       "      <td>7</td>\n",
       "      <td>1</td>\n",
       "      <td>1</td>\n",
       "    </tr>\n",
       "    <tr>\n",
       "      <th>297</th>\n",
       "      <td>45</td>\n",
       "      <td>1</td>\n",
       "      <td>1</td>\n",
       "      <td>110</td>\n",
       "      <td>264</td>\n",
       "      <td>0</td>\n",
       "      <td>0</td>\n",
       "      <td>132</td>\n",
       "      <td>0</td>\n",
       "      <td>1.2</td>\n",
       "      <td>2</td>\n",
       "      <td>0</td>\n",
       "      <td>7</td>\n",
       "      <td>1</td>\n",
       "      <td>1</td>\n",
       "    </tr>\n",
       "    <tr>\n",
       "      <th>298</th>\n",
       "      <td>68</td>\n",
       "      <td>1</td>\n",
       "      <td>4</td>\n",
       "      <td>144</td>\n",
       "      <td>193</td>\n",
       "      <td>1</td>\n",
       "      <td>0</td>\n",
       "      <td>141</td>\n",
       "      <td>0</td>\n",
       "      <td>3.4</td>\n",
       "      <td>2</td>\n",
       "      <td>2</td>\n",
       "      <td>7</td>\n",
       "      <td>2</td>\n",
       "      <td>1</td>\n",
       "    </tr>\n",
       "    <tr>\n",
       "      <th>299</th>\n",
       "      <td>57</td>\n",
       "      <td>1</td>\n",
       "      <td>4</td>\n",
       "      <td>130</td>\n",
       "      <td>131</td>\n",
       "      <td>0</td>\n",
       "      <td>0</td>\n",
       "      <td>115</td>\n",
       "      <td>1</td>\n",
       "      <td>1.2</td>\n",
       "      <td>2</td>\n",
       "      <td>1</td>\n",
       "      <td>7</td>\n",
       "      <td>3</td>\n",
       "      <td>1</td>\n",
       "    </tr>\n",
       "    <tr>\n",
       "      <th>300</th>\n",
       "      <td>57</td>\n",
       "      <td>0</td>\n",
       "      <td>2</td>\n",
       "      <td>130</td>\n",
       "      <td>236</td>\n",
       "      <td>0</td>\n",
       "      <td>2</td>\n",
       "      <td>174</td>\n",
       "      <td>0</td>\n",
       "      <td>0.0</td>\n",
       "      <td>2</td>\n",
       "      <td>1</td>\n",
       "      <td>3</td>\n",
       "      <td>1</td>\n",
       "      <td>1</td>\n",
       "    </tr>\n",
       "  </tbody>\n",
       "</table>\n",
       "</div>"
      ],
      "text/plain": [
       "     age  gender  cpain  restbp  chol  bsugar  restecg  maxhr  exercisecp  \\\n",
       "296   57       0      4     140   241       0        0    123           1   \n",
       "297   45       1      1     110   264       0        0    132           0   \n",
       "298   68       1      4     144   193       1        0    141           0   \n",
       "299   57       1      4     130   131       0        0    115           1   \n",
       "300   57       0      2     130   236       0        2    174           0   \n",
       "\n",
       "     oldpeak  slope  ca  thal  target  target1  \n",
       "296      0.2      2   0     7       1        1  \n",
       "297      1.2      2   0     7       1        1  \n",
       "298      3.4      2   2     7       2        1  \n",
       "299      1.2      2   1     7       3        1  \n",
       "300      0.0      2   1     3       1        1  "
      ]
     },
     "execution_count": 5,
     "metadata": {},
     "output_type": "execute_result"
    }
   ],
   "source": [
    "############### New Target ###############\n",
    "target1 = np.minimum(df.target, 1)\n",
    "df['target1'] = target1\n",
    "df.tail()"
   ]
  },
  {
   "cell_type": "code",
   "execution_count": 6,
   "metadata": {},
   "outputs": [],
   "source": [
    "############### Features/Target ###############\n",
    "X, y = df.drop(['target', 'target1'], axis=1), df['target1']\n",
    "X, y = np.array(X), np.array(y)"
   ]
  },
  {
   "cell_type": "code",
   "execution_count": 30,
   "metadata": {},
   "outputs": [],
   "source": [
    "############### Train/Test ###############\n",
    "Xtrain, Xtest, ytrain, ytest = train_test_split(X, y, test_size=0.2, random_state=33)"
   ]
  },
  {
   "cell_type": "code",
   "execution_count": 22,
   "metadata": {},
   "outputs": [
    {
     "name": "stdout",
     "output_type": "stream",
     "text": [
      "KNN:  0.44791100847749155\n",
      "SVM:  0.7817386137590742\n",
      "Decision Tree:  0.7002749556030631\n",
      "Random Forest:  0.8037888198757763\n",
      "Logistic Regression:  0.8191691384358517\n"
     ]
    },
    {
     "name": "stderr",
     "output_type": "stream",
     "text": [
      "/Users/biancaorozco/anaconda3/lib/python3.7/site-packages/sklearn/linear_model/logistic.py:432: FutureWarning: Default solver will be changed to 'lbfgs' in 0.22. Specify a solver to silence this warning.\n",
      "  FutureWarning)\n",
      "/Users/biancaorozco/anaconda3/lib/python3.7/site-packages/sklearn/linear_model/logistic.py:432: FutureWarning: Default solver will be changed to 'lbfgs' in 0.22. Specify a solver to silence this warning.\n",
      "  FutureWarning)\n",
      "/Users/biancaorozco/anaconda3/lib/python3.7/site-packages/sklearn/linear_model/logistic.py:432: FutureWarning: Default solver will be changed to 'lbfgs' in 0.22. Specify a solver to silence this warning.\n",
      "  FutureWarning)\n",
      "/Users/biancaorozco/anaconda3/lib/python3.7/site-packages/sklearn/linear_model/logistic.py:432: FutureWarning: Default solver will be changed to 'lbfgs' in 0.22. Specify a solver to silence this warning.\n",
      "  FutureWarning)\n",
      "/Users/biancaorozco/anaconda3/lib/python3.7/site-packages/sklearn/linear_model/logistic.py:432: FutureWarning: Default solver will be changed to 'lbfgs' in 0.22. Specify a solver to silence this warning.\n",
      "  FutureWarning)\n"
     ]
    }
   ],
   "source": [
    "############### F1 Scores/Feature Importance ###############\n",
    "## Nearest Neighbors\n",
    "knn = KNeighborsClassifier(n_neighbors=2)\n",
    "print('KNN: ', score_model(knn, Xtrain, ytrain))\n",
    "\n",
    "## SVM\n",
    "svm = SVC(kernel=\"linear\")\n",
    "print('SVM: ', score_model(svm, Xtrain, ytrain))\n",
    "\n",
    "## Decision Tree\n",
    "decisiontree = DecisionTreeClassifier()\n",
    "print('Decision Tree: ', score_model(decisiontree, Xtrain, ytrain))\n",
    "\n",
    "## Random Forest\n",
    "randomforest = RandomForestClassifier(n_estimators=300)\n",
    "print('Random Forest: ', score_model(randomforest, Xtrain, ytrain))\n",
    "\n",
    "## Logistic Regression\n",
    "logisticregression = LogisticRegression(C=100)\n",
    "print('Logistic Regression: ', score_model(logisticregression, Xtrain, ytrain))"
   ]
  },
  {
   "cell_type": "code",
   "execution_count": 87,
   "metadata": {
    "collapsed": true
   },
   "outputs": [
    {
     "name": "stderr",
     "output_type": "stream",
     "text": [
      "/Users/biancaorozco/anaconda3/lib/python3.7/site-packages/sklearn/linear_model/logistic.py:432: FutureWarning: Default solver will be changed to 'lbfgs' in 0.22. Specify a solver to silence this warning.\n",
      "  FutureWarning)\n",
      "/Users/biancaorozco/anaconda3/lib/python3.7/site-packages/sklearn/linear_model/logistic.py:432: FutureWarning: Default solver will be changed to 'lbfgs' in 0.22. Specify a solver to silence this warning.\n",
      "  FutureWarning)\n"
     ]
    },
    {
     "name": "stdout",
     "output_type": "stream",
     "text": [
      "\n",
      "Logistic Regression: \n",
      " [[30  5]\n",
      " [ 8 17]]\n",
      "Logistic Regression AUC score =  0.8331428571428571\n",
      "Logistic Regression:  None\n",
      "\n",
      "Random Forest: \n",
      " [[31  4]\n",
      " [ 8 17]]\n",
      "Random Forest AUC score =  0.8651428571428571\n",
      "Random Forest:  None\n"
     ]
    },
    {
     "data": {
      "image/png": "[encoded data removed]",
      "text/plain": [
       "<Figure size 432x288 with 1 Axes>"
      ]
     },
     "metadata": {
      "needs_background": "light"
     },
     "output_type": "display_data"
    }
   ],
   "source": [
    "############### Matrix, ROC, AUC ###############\n",
    "## Logistic Regression\n",
    "print('\\nLogistic Regression: \\n', matrix_model(logisticregression, Xtrain, ytrain))\n",
    "print('Logistic Regression: ', roc_model(logisticregression, Xtrain, ytrain, 'Logistic Regression'))\n",
    "\n",
    "## Random Forest\n",
    "print('\\nRandom Forest: \\n', matrix_model(randomforest, Xtrain, ytrain))\n",
    "print('Random Forest: ', roc_model(randomforest, Xtrain, ytrain, 'Random Forest'))"
   ]
  },
  {
   "cell_type": "code",
   "execution_count": 100,
   "metadata": {},
   "outputs": [
    {
     "data": {
      "text/plain": [
       "array([0.08232086, 0.02608551, 0.14185747, 0.06852711, 0.07615799,\n",
       "       0.00818054, 0.02469564, 0.11431104, 0.06321794, 0.10179648,\n",
       "       0.04654246, 0.11261854, 0.13368843])"
      ]
     },
     "execution_count": 100,
     "metadata": {},
     "output_type": "execute_result"
    }
   ],
   "source": [
    "randomforest.feature_importances_"
   ]
  },
  {
   "cell_type": "code",
   "execution_count": 105,
   "metadata": {},
   "outputs": [
    {
     "name": "stdout",
     "output_type": "stream",
     "text": [
      "0.7719298245614036\n"
     ]
    },
    {
     "data": {
      "text/plain": [
       "array([[25,  3],\n",
       "       [10, 22]])"
      ]
     },
     "execution_count": 105,
     "metadata": {},
     "output_type": "execute_result"
    }
   ],
   "source": [
    "############### Test Model ###############\n",
    "randomforest.fit(Xtrain, ytrain)\n",
    "ypred = randomforest.predict(Xtest)\n",
    "print(f1_score(ytest, ypred))\n",
    "cmatrix = confusion_matrix(ytest, ypred)\n",
    "cmatrix"
   ]
  },
  {
   "cell_type": "code",
   "execution_count": 111,
   "metadata": {
    "scrolled": false
   },
   "outputs": [
    {
     "name": "stdout",
     "output_type": "stream",
     "text": [
      "Random Forest AUC score =  0.898\n"
     ]
    },
    {
     "data": {
      "image/png": "[encoded data removed]",
      "text/plain": [
       "<Figure size 432x288 with 1 Axes>"
      ]
     },
     "metadata": {
      "needs_background": "light"
     },
     "output_type": "display_data"
    }
   ],
   "source": [
    "fpr, tpr, thresholds = roc_curve(ytest, randomforest.predict_proba(Xtest)[:,1])\n",
    "\n",
    "plt.plot(fpr, tpr,lw=2)\n",
    "plt.plot([0,1],[0,1],c='red',ls='--')\n",
    "plt.xlim([-0.05,1.05])\n",
    "plt.ylim([-0.05,1.05])\n",
    "\n",
    "\n",
    "plt.xlabel('False positive rate (1-Specificity)')\n",
    "plt.ylabel('True positive rate (Sensitivity)')\n",
    "plt.title('ROC Curve for Heart Disease Prediction');\n",
    "rf_auc = roc_auc_score(ytest, randomforest.predict_proba(Xtest)[:,1])\n",
    "print(\"Random Forest AUC score = \", round(rf_auc, 3))"
   ]
  }
 ],
 "metadata": {
  "kernelspec": {
   "display_name": "Python 3",
   "language": "python",
   "name": "python3"
  },
  "language_info": {
   "codemirror_mode": {
    "name": "ipython",
    "version": 3
   },
   "file_extension": ".py",
   "mimetype": "text/x-python",
   "name": "python",
   "nbconvert_exporter": "python",
   "pygments_lexer": "ipython3",
   "version": "3.7.3"
  }
 },
 "nbformat": 4,
 "nbformat_minor": 2
}
